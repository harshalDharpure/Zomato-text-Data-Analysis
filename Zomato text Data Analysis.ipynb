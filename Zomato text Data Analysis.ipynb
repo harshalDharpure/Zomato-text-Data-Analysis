{
 "cells": [
  {
   "cell_type": "code",
   "execution_count": 1,
   "id": "e18da660",
   "metadata": {},
   "outputs": [],
   "source": [
    "import pandas as pd\n",
    "import numpy as np\n",
    "import matplotlib.pyplot as plt\n",
    "import seaborn as sns\n",
    "\n",
    "from warnings import filterwarnings\n",
    "filterwarnings('ignore')"
   ]
  },
  {
   "cell_type": "code",
   "execution_count": 2,
   "id": "d4fa0998",
   "metadata": {},
   "outputs": [],
   "source": [
    "data_path = 'C:/Users/HARSHAL/Resume Projects/Zomato Text Data Analysis/zomato.csv'"
   ]
  },
  {
   "cell_type": "code",
   "execution_count": 3,
   "id": "d65d6f7b",
   "metadata": {},
   "outputs": [
    {
     "name": "stdout",
     "output_type": "stream",
     "text": [
      "Dataset shape: (51717, 17)\n"
     ]
    },
    {
     "data": {
      "text/html": [
       "<div>\n",
       "<style scoped>\n",
       "    .dataframe tbody tr th:only-of-type {\n",
       "        vertical-align: middle;\n",
       "    }\n",
       "\n",
       "    .dataframe tbody tr th {\n",
       "        vertical-align: top;\n",
       "    }\n",
       "\n",
       "    .dataframe thead th {\n",
       "        text-align: right;\n",
       "    }\n",
       "</style>\n",
       "<table border=\"1\" class=\"dataframe\">\n",
       "  <thead>\n",
       "    <tr style=\"text-align: right;\">\n",
       "      <th></th>\n",
       "      <th>url</th>\n",
       "      <th>address</th>\n",
       "      <th>name</th>\n",
       "      <th>online_order</th>\n",
       "      <th>book_table</th>\n",
       "      <th>rate</th>\n",
       "      <th>votes</th>\n",
       "      <th>phone</th>\n",
       "      <th>location</th>\n",
       "      <th>rest_type</th>\n",
       "      <th>dish_liked</th>\n",
       "      <th>cuisines</th>\n",
       "      <th>approx_cost(for two people)</th>\n",
       "      <th>reviews_list</th>\n",
       "      <th>menu_item</th>\n",
       "      <th>listed_in(type)</th>\n",
       "      <th>listed_in(city)</th>\n",
       "    </tr>\n",
       "  </thead>\n",
       "  <tbody>\n",
       "    <tr>\n",
       "      <th>0</th>\n",
       "      <td>https://www.zomato.com/bangalore/jalsa-banasha...</td>\n",
       "      <td>942, 21st Main Road, 2nd Stage, Banashankari, ...</td>\n",
       "      <td>Jalsa</td>\n",
       "      <td>Yes</td>\n",
       "      <td>Yes</td>\n",
       "      <td>4.1/5</td>\n",
       "      <td>775</td>\n",
       "      <td>080 42297555\\r\\n+91 9743772233</td>\n",
       "      <td>Banashankari</td>\n",
       "      <td>Casual Dining</td>\n",
       "      <td>Pasta, Lunch Buffet, Masala Papad, Paneer Laja...</td>\n",
       "      <td>North Indian, Mughlai, Chinese</td>\n",
       "      <td>800</td>\n",
       "      <td>[('Rated 4.0', 'RATED\\n  A beautiful place to ...</td>\n",
       "      <td>[]</td>\n",
       "      <td>Buffet</td>\n",
       "      <td>Banashankari</td>\n",
       "    </tr>\n",
       "    <tr>\n",
       "      <th>1</th>\n",
       "      <td>https://www.zomato.com/bangalore/spice-elephan...</td>\n",
       "      <td>2nd Floor, 80 Feet Road, Near Big Bazaar, 6th ...</td>\n",
       "      <td>Spice Elephant</td>\n",
       "      <td>Yes</td>\n",
       "      <td>No</td>\n",
       "      <td>4.1/5</td>\n",
       "      <td>787</td>\n",
       "      <td>080 41714161</td>\n",
       "      <td>Banashankari</td>\n",
       "      <td>Casual Dining</td>\n",
       "      <td>Momos, Lunch Buffet, Chocolate Nirvana, Thai G...</td>\n",
       "      <td>Chinese, North Indian, Thai</td>\n",
       "      <td>800</td>\n",
       "      <td>[('Rated 4.0', 'RATED\\n  Had been here for din...</td>\n",
       "      <td>[]</td>\n",
       "      <td>Buffet</td>\n",
       "      <td>Banashankari</td>\n",
       "    </tr>\n",
       "    <tr>\n",
       "      <th>2</th>\n",
       "      <td>https://www.zomato.com/SanchurroBangalore?cont...</td>\n",
       "      <td>1112, Next to KIMS Medical College, 17th Cross...</td>\n",
       "      <td>San Churro Cafe</td>\n",
       "      <td>Yes</td>\n",
       "      <td>No</td>\n",
       "      <td>3.8/5</td>\n",
       "      <td>918</td>\n",
       "      <td>+91 9663487993</td>\n",
       "      <td>Banashankari</td>\n",
       "      <td>Cafe, Casual Dining</td>\n",
       "      <td>Churros, Cannelloni, Minestrone Soup, Hot Choc...</td>\n",
       "      <td>Cafe, Mexican, Italian</td>\n",
       "      <td>800</td>\n",
       "      <td>[('Rated 3.0', \"RATED\\n  Ambience is not that ...</td>\n",
       "      <td>[]</td>\n",
       "      <td>Buffet</td>\n",
       "      <td>Banashankari</td>\n",
       "    </tr>\n",
       "    <tr>\n",
       "      <th>3</th>\n",
       "      <td>https://www.zomato.com/bangalore/addhuri-udupi...</td>\n",
       "      <td>1st Floor, Annakuteera, 3rd Stage, Banashankar...</td>\n",
       "      <td>Addhuri Udupi Bhojana</td>\n",
       "      <td>No</td>\n",
       "      <td>No</td>\n",
       "      <td>3.7/5</td>\n",
       "      <td>88</td>\n",
       "      <td>+91 9620009302</td>\n",
       "      <td>Banashankari</td>\n",
       "      <td>Quick Bites</td>\n",
       "      <td>Masala Dosa</td>\n",
       "      <td>South Indian, North Indian</td>\n",
       "      <td>300</td>\n",
       "      <td>[('Rated 4.0', \"RATED\\n  Great food and proper...</td>\n",
       "      <td>[]</td>\n",
       "      <td>Buffet</td>\n",
       "      <td>Banashankari</td>\n",
       "    </tr>\n",
       "    <tr>\n",
       "      <th>4</th>\n",
       "      <td>https://www.zomato.com/bangalore/grand-village...</td>\n",
       "      <td>10, 3rd Floor, Lakshmi Associates, Gandhi Baza...</td>\n",
       "      <td>Grand Village</td>\n",
       "      <td>No</td>\n",
       "      <td>No</td>\n",
       "      <td>3.8/5</td>\n",
       "      <td>166</td>\n",
       "      <td>+91 8026612447\\r\\n+91 9901210005</td>\n",
       "      <td>Basavanagudi</td>\n",
       "      <td>Casual Dining</td>\n",
       "      <td>Panipuri, Gol Gappe</td>\n",
       "      <td>North Indian, Rajasthani</td>\n",
       "      <td>600</td>\n",
       "      <td>[('Rated 4.0', 'RATED\\n  Very good restaurant ...</td>\n",
       "      <td>[]</td>\n",
       "      <td>Buffet</td>\n",
       "      <td>Banashankari</td>\n",
       "    </tr>\n",
       "  </tbody>\n",
       "</table>\n",
       "</div>"
      ],
      "text/plain": [
       "                                                 url  \\\n",
       "0  https://www.zomato.com/bangalore/jalsa-banasha...   \n",
       "1  https://www.zomato.com/bangalore/spice-elephan...   \n",
       "2  https://www.zomato.com/SanchurroBangalore?cont...   \n",
       "3  https://www.zomato.com/bangalore/addhuri-udupi...   \n",
       "4  https://www.zomato.com/bangalore/grand-village...   \n",
       "\n",
       "                                             address                   name  \\\n",
       "0  942, 21st Main Road, 2nd Stage, Banashankari, ...                  Jalsa   \n",
       "1  2nd Floor, 80 Feet Road, Near Big Bazaar, 6th ...         Spice Elephant   \n",
       "2  1112, Next to KIMS Medical College, 17th Cross...        San Churro Cafe   \n",
       "3  1st Floor, Annakuteera, 3rd Stage, Banashankar...  Addhuri Udupi Bhojana   \n",
       "4  10, 3rd Floor, Lakshmi Associates, Gandhi Baza...          Grand Village   \n",
       "\n",
       "  online_order book_table   rate  votes                             phone  \\\n",
       "0          Yes        Yes  4.1/5    775    080 42297555\\r\\n+91 9743772233   \n",
       "1          Yes         No  4.1/5    787                      080 41714161   \n",
       "2          Yes         No  3.8/5    918                    +91 9663487993   \n",
       "3           No         No  3.7/5     88                    +91 9620009302   \n",
       "4           No         No  3.8/5    166  +91 8026612447\\r\\n+91 9901210005   \n",
       "\n",
       "       location            rest_type  \\\n",
       "0  Banashankari        Casual Dining   \n",
       "1  Banashankari        Casual Dining   \n",
       "2  Banashankari  Cafe, Casual Dining   \n",
       "3  Banashankari          Quick Bites   \n",
       "4  Basavanagudi        Casual Dining   \n",
       "\n",
       "                                          dish_liked  \\\n",
       "0  Pasta, Lunch Buffet, Masala Papad, Paneer Laja...   \n",
       "1  Momos, Lunch Buffet, Chocolate Nirvana, Thai G...   \n",
       "2  Churros, Cannelloni, Minestrone Soup, Hot Choc...   \n",
       "3                                        Masala Dosa   \n",
       "4                                Panipuri, Gol Gappe   \n",
       "\n",
       "                         cuisines approx_cost(for two people)  \\\n",
       "0  North Indian, Mughlai, Chinese                         800   \n",
       "1     Chinese, North Indian, Thai                         800   \n",
       "2          Cafe, Mexican, Italian                         800   \n",
       "3      South Indian, North Indian                         300   \n",
       "4        North Indian, Rajasthani                         600   \n",
       "\n",
       "                                        reviews_list menu_item  \\\n",
       "0  [('Rated 4.0', 'RATED\\n  A beautiful place to ...        []   \n",
       "1  [('Rated 4.0', 'RATED\\n  Had been here for din...        []   \n",
       "2  [('Rated 3.0', \"RATED\\n  Ambience is not that ...        []   \n",
       "3  [('Rated 4.0', \"RATED\\n  Great food and proper...        []   \n",
       "4  [('Rated 4.0', 'RATED\\n  Very good restaurant ...        []   \n",
       "\n",
       "  listed_in(type) listed_in(city)  \n",
       "0          Buffet    Banashankari  \n",
       "1          Buffet    Banashankari  \n",
       "2          Buffet    Banashankari  \n",
       "3          Buffet    Banashankari  \n",
       "4          Buffet    Banashankari  "
      ]
     },
     "execution_count": 3,
     "metadata": {},
     "output_type": "execute_result"
    }
   ],
   "source": [
    "from pandas import read_csv\n",
    "df= read_csv(data_path)\n",
    "print(f'Dataset shape: {df.shape}')\n",
    "df.head()"
   ]
  },
  {
   "cell_type": "code",
   "execution_count": 4,
   "id": "69c2dc3b",
   "metadata": {},
   "outputs": [
    {
     "name": "stdout",
     "output_type": "stream",
     "text": [
      "<class 'pandas.core.frame.DataFrame'>\n",
      "RangeIndex: 51717 entries, 0 to 51716\n",
      "Data columns (total 17 columns):\n",
      " #   Column                       Non-Null Count  Dtype \n",
      "---  ------                       --------------  ----- \n",
      " 0   url                          51717 non-null  object\n",
      " 1   address                      51717 non-null  object\n",
      " 2   name                         51717 non-null  object\n",
      " 3   online_order                 51717 non-null  object\n",
      " 4   book_table                   51717 non-null  object\n",
      " 5   rate                         43942 non-null  object\n",
      " 6   votes                        51717 non-null  int64 \n",
      " 7   phone                        50509 non-null  object\n",
      " 8   location                     51696 non-null  object\n",
      " 9   rest_type                    51490 non-null  object\n",
      " 10  dish_liked                   23639 non-null  object\n",
      " 11  cuisines                     51672 non-null  object\n",
      " 12  approx_cost(for two people)  51371 non-null  object\n",
      " 13  reviews_list                 51717 non-null  object\n",
      " 14  menu_item                    51717 non-null  object\n",
      " 15  listed_in(type)              51717 non-null  object\n",
      " 16  listed_in(city)              51717 non-null  object\n",
      "dtypes: int64(1), object(16)\n",
      "memory usage: 6.7+ MB\n"
     ]
    }
   ],
   "source": [
    "df.info()"
   ]
  },
  {
   "cell_type": "code",
   "execution_count": 5,
   "id": "3e47ecb5",
   "metadata": {},
   "outputs": [
    {
     "data": {
      "text/plain": [
       "url                                0\n",
       "address                            0\n",
       "name                               0\n",
       "online_order                       0\n",
       "book_table                         0\n",
       "rate                            7775\n",
       "votes                              0\n",
       "phone                           1208\n",
       "location                          21\n",
       "rest_type                        227\n",
       "dish_liked                     28078\n",
       "cuisines                          45\n",
       "approx_cost(for two people)      346\n",
       "reviews_list                       0\n",
       "menu_item                          0\n",
       "listed_in(type)                    0\n",
       "listed_in(city)                    0\n",
       "dtype: int64"
      ]
     },
     "execution_count": 5,
     "metadata": {},
     "output_type": "execute_result"
    }
   ],
   "source": [
    "df.isnull().sum()"
   ]
  },
  {
   "cell_type": "code",
   "execution_count": 6,
   "id": "ee5eb43f",
   "metadata": {},
   "outputs": [
    {
     "data": {
      "text/plain": [
       "['rate',\n",
       " 'phone',\n",
       " 'location',\n",
       " 'rest_type',\n",
       " 'dish_liked',\n",
       " 'cuisines',\n",
       " 'approx_cost(for two people)']"
      ]
     },
     "execution_count": 6,
     "metadata": {},
     "output_type": "execute_result"
    }
   ],
   "source": [
    "feature_na=[feature for feature in df.columns if df[feature].isnull().sum()>0]\n",
    "feature_na"
   ]
  },
  {
   "cell_type": "code",
   "execution_count": 7,
   "id": "c42690d7",
   "metadata": {},
   "outputs": [
    {
     "name": "stdout",
     "output_type": "stream",
     "text": [
      "rate has 15.0337 % missing values\n",
      "phone has 2.3358 % missing values\n",
      "location has 0.0406 % missing values\n",
      "rest_type has 0.4389 % missing values\n",
      "dish_liked has 54.2916 % missing values\n",
      "cuisines has 0.087 % missing values\n",
      "approx_cost(for two people) has 0.669 % missing values\n"
     ]
    }
   ],
   "source": [
    "import numpy as np\n",
    "for feature in feature_na:\n",
    "    print('{} has {} % missing values'.format(feature,np.round(df[feature].isnull().sum()/len(df)*100,4)))"
   ]
  },
  {
   "cell_type": "code",
   "execution_count": 8,
   "id": "5105510a",
   "metadata": {},
   "outputs": [
    {
     "data": {
      "text/html": [
       "<div>\n",
       "<style scoped>\n",
       "    .dataframe tbody tr th:only-of-type {\n",
       "        vertical-align: middle;\n",
       "    }\n",
       "\n",
       "    .dataframe tbody tr th {\n",
       "        vertical-align: top;\n",
       "    }\n",
       "\n",
       "    .dataframe thead th {\n",
       "        text-align: right;\n",
       "    }\n",
       "</style>\n",
       "<table border=\"1\" class=\"dataframe\">\n",
       "  <thead>\n",
       "    <tr style=\"text-align: right;\">\n",
       "      <th></th>\n",
       "      <th></th>\n",
       "      <th>listed_in(type)</th>\n",
       "    </tr>\n",
       "    <tr>\n",
       "      <th>name</th>\n",
       "      <th>address</th>\n",
       "      <th></th>\n",
       "    </tr>\n",
       "  </thead>\n",
       "  <tbody>\n",
       "    <tr>\n",
       "      <th>#FeelTheROLL</th>\n",
       "      <th>Opposite Mantri Commercio, Outer Ring Road, Devarabisanahalli, Near Sakra World Hospital</th>\n",
       "      <td>[Delivery, Delivery]</td>\n",
       "    </tr>\n",
       "    <tr>\n",
       "      <th>#L-81 Cafe</th>\n",
       "      <th>Sector 6, HSR Layout, HSR</th>\n",
       "      <td>[Delivery, Dine-out, Delivery, Dine-out, Deliv...</td>\n",
       "    </tr>\n",
       "    <tr>\n",
       "      <th>#Vibes Restro</th>\n",
       "      <th>Marasur Gate, Chandapura - Anekal Road, Near Aliance Collage, Electronic City, Bangalore</th>\n",
       "      <td>[Buffet, Delivery, Dine-out]</td>\n",
       "    </tr>\n",
       "    <tr>\n",
       "      <th>#refuel</th>\n",
       "      <th>7, Ground Floor, RR Commercial Complex, Akshay Nagar, Bannerghatta Road, Bangalore</th>\n",
       "      <td>[Cafes, Delivery, Dine-out]</td>\n",
       "    </tr>\n",
       "    <tr>\n",
       "      <th>'Brahmins' Thatte Idli</th>\n",
       "      <th>19, 1st main, 2nd cross, 3rd stage, 3rd block, Basaveshwara Nagar, Bangalore</th>\n",
       "      <td>[Dine-out]</td>\n",
       "    </tr>\n",
       "    <tr>\n",
       "      <th>...</th>\n",
       "      <th>...</th>\n",
       "      <td>...</td>\n",
       "    </tr>\n",
       "    <tr>\n",
       "      <th rowspan=\"2\" valign=\"top\">nu.tree</th>\n",
       "      <th>47/7 First floor, DoddaThogur Road, Near Velankani Gate 2, Phase 1, Electronic City, Bangalore</th>\n",
       "      <td>[Delivery]</td>\n",
       "    </tr>\n",
       "    <tr>\n",
       "      <th>Ground Floor-Lobby Area, Brigade IRV Centre, Nallurhalli Road, Whitefield, Bangalore</th>\n",
       "      <td>[Delivery, Delivery, Delivery]</td>\n",
       "    </tr>\n",
       "    <tr>\n",
       "      <th>re:cess - Hilton Bangalore Embassy GolfLinks</th>\n",
       "      <th>Hilton Bangalore Embassy GolfLinks, Embassy Golf Links Business Park, Inner Ring Road, Domlur, Bangalore</th>\n",
       "      <td>[Dine-out, Dine-out, Pubs and bars]</td>\n",
       "    </tr>\n",
       "    <tr>\n",
       "      <th>repEAT Hub</th>\n",
       "      <th>67/4, Bhoganahalli Road, JCR Layout, Panathur, Marathahalli, Bangalore</th>\n",
       "      <td>[Delivery, Dine-out]</td>\n",
       "    </tr>\n",
       "    <tr>\n",
       "      <th>sCoolMeal</th>\n",
       "      <th>197/293-3, 32nd Main, 1st Stage, BTM, Bangalore</th>\n",
       "      <td>[Delivery, Delivery, Delivery, Delivery, Deliv...</td>\n",
       "    </tr>\n",
       "  </tbody>\n",
       "</table>\n",
       "<p>12499 rows × 1 columns</p>\n",
       "</div>"
      ],
      "text/plain": [
       "                                                                                                                                   listed_in(type)\n",
       "name                                         address                                                                                              \n",
       "#FeelTheROLL                                 Opposite Mantri Commercio, Outer Ring Road, Dev...                               [Delivery, Delivery]\n",
       "#L-81 Cafe                                   Sector 6, HSR Layout, HSR                           [Delivery, Dine-out, Delivery, Dine-out, Deliv...\n",
       "#Vibes Restro                                Marasur Gate, Chandapura - Anekal Road, Near Al...                       [Buffet, Delivery, Dine-out]\n",
       "#refuel                                      7, Ground Floor, RR Commercial Complex, Akshay ...                        [Cafes, Delivery, Dine-out]\n",
       "'Brahmins' Thatte Idli                       19, 1st main, 2nd cross, 3rd stage, 3rd block, ...                                         [Dine-out]\n",
       "...                                                                                                                                            ...\n",
       "nu.tree                                      47/7 First floor, DoddaThogur Road, Near Velank...                                         [Delivery]\n",
       "                                             Ground Floor-Lobby Area, Brigade IRV Centre, Na...                     [Delivery, Delivery, Delivery]\n",
       "re:cess - Hilton Bangalore Embassy GolfLinks Hilton Bangalore Embassy GolfLinks, Embassy Gol...                [Dine-out, Dine-out, Pubs and bars]\n",
       "repEAT Hub                                   67/4, Bhoganahalli Road, JCR Layout, Panathur, ...                               [Delivery, Dine-out]\n",
       "sCoolMeal                                    197/293-3, 32nd Main, 1st Stage, BTM, Bangalore     [Delivery, Delivery, Delivery, Delivery, Deliv...\n",
       "\n",
       "[12499 rows x 1 columns]"
      ]
     },
     "execution_count": 8,
     "metadata": {},
     "output_type": "execute_result"
    }
   ],
   "source": [
    "data = df.copy()\n",
    "data.groupby([\"name\", \"address\"]).agg({\"listed_in(type)\" : list})"
   ]
  },
  {
   "cell_type": "code",
   "execution_count": 9,
   "id": "68770140",
   "metadata": {},
   "outputs": [
    {
     "data": {
      "text/plain": [
       "Index(['url', 'address', 'name', 'online_order', 'book_table', 'rate', 'votes',\n",
       "       'phone', 'location', 'rest_type', 'dish_liked', 'cuisines',\n",
       "       'approx_cost(for two people)', 'reviews_list', 'menu_item',\n",
       "       'listed_in(type)', 'listed_in(city)'],\n",
       "      dtype='object')"
      ]
     },
     "execution_count": 9,
     "metadata": {},
     "output_type": "execute_result"
    }
   ],
   "source": [
    "\n",
    "grouped=data.groupby([\"name\", \"address\"]).agg({\"listed_in(type)\" : list})\n",
    "df.columns"
   ]
  },
  {
   "cell_type": "code",
   "execution_count": 10,
   "id": "5722a1da",
   "metadata": {},
   "outputs": [
    {
     "data": {
      "text/plain": [
       "Index(['name', 'address', 'listed_in(type)_x', 'url', 'online_order',\n",
       "       'book_table', 'rate', 'votes', 'phone', 'location', 'rest_type',\n",
       "       'dish_liked', 'cuisines', 'approx_cost(for two people)', 'reviews_list',\n",
       "       'menu_item', 'listed_in(type)_y', 'listed_in(city)'],\n",
       "      dtype='object')"
      ]
     },
     "execution_count": 10,
     "metadata": {},
     "output_type": "execute_result"
    }
   ],
   "source": [
    "newdata = pd.merge(grouped, data, on = ([\"name\", \"address\"]))\n",
    "newdata.columns"
   ]
  },
  {
   "cell_type": "code",
   "execution_count": 11,
   "id": "5a2005f2",
   "metadata": {},
   "outputs": [
    {
     "data": {
      "text/plain": [
       "(51717, 18)"
      ]
     },
     "execution_count": 11,
     "metadata": {},
     "output_type": "execute_result"
    }
   ],
   "source": [
    "newdata['listed_in(type)_y'].dtype\n",
    "newdata.shape"
   ]
  },
  {
   "cell_type": "code",
   "execution_count": 12,
   "id": "1cf4a56c",
   "metadata": {},
   "outputs": [
    {
     "data": {
      "text/plain": [
       "(20915, 18)"
      ]
     },
     "execution_count": 12,
     "metadata": {},
     "output_type": "execute_result"
    }
   ],
   "source": [
    "newdata.drop_duplicates(subset = [\"name\", \"address\", \"listed_in(type)_y\"], inplace = True)\n",
    "newdata.shape"
   ]
  },
  {
   "cell_type": "code",
   "execution_count": 13,
   "id": "d20c46dd",
   "metadata": {},
   "outputs": [
    {
     "data": {
      "text/html": [
       "<div>\n",
       "<style scoped>\n",
       "    .dataframe tbody tr th:only-of-type {\n",
       "        vertical-align: middle;\n",
       "    }\n",
       "\n",
       "    .dataframe tbody tr th {\n",
       "        vertical-align: top;\n",
       "    }\n",
       "\n",
       "    .dataframe thead th {\n",
       "        text-align: right;\n",
       "    }\n",
       "</style>\n",
       "<table border=\"1\" class=\"dataframe\">\n",
       "  <thead>\n",
       "    <tr style=\"text-align: right;\">\n",
       "      <th></th>\n",
       "      <th>name</th>\n",
       "      <th>address</th>\n",
       "      <th>listed_in(type)_x</th>\n",
       "      <th>url</th>\n",
       "      <th>online_order</th>\n",
       "      <th>book_table</th>\n",
       "      <th>rate</th>\n",
       "      <th>votes</th>\n",
       "      <th>phone</th>\n",
       "      <th>location</th>\n",
       "      <th>rest_type</th>\n",
       "      <th>dish_liked</th>\n",
       "      <th>cuisines</th>\n",
       "      <th>approx_cost(for two people)</th>\n",
       "      <th>reviews_list</th>\n",
       "      <th>menu_item</th>\n",
       "      <th>listed_in(type)_y</th>\n",
       "      <th>listed_in(city)</th>\n",
       "    </tr>\n",
       "  </thead>\n",
       "  <tbody>\n",
       "    <tr>\n",
       "      <th>0</th>\n",
       "      <td>#FeelTheROLL</td>\n",
       "      <td>Opposite Mantri Commercio, Outer Ring Road, De...</td>\n",
       "      <td>[Delivery, Delivery]</td>\n",
       "      <td>https://www.zomato.com/bangalore/feeltheroll-b...</td>\n",
       "      <td>No</td>\n",
       "      <td>No</td>\n",
       "      <td>3.4/5</td>\n",
       "      <td>7</td>\n",
       "      <td>+91 9108342079\\r\\n+91 9886117901</td>\n",
       "      <td>Bellandur</td>\n",
       "      <td>Quick Bites</td>\n",
       "      <td>NaN</td>\n",
       "      <td>Fast Food</td>\n",
       "      <td>200</td>\n",
       "      <td>[('Rated 5.0', \"RATED\\n  Had an egg chicken ro...</td>\n",
       "      <td>[]</td>\n",
       "      <td>Delivery</td>\n",
       "      <td>Bellandur</td>\n",
       "    </tr>\n",
       "    <tr>\n",
       "      <th>2</th>\n",
       "      <td>#L-81 Cafe</td>\n",
       "      <td>Sector 6, HSR Layout, HSR</td>\n",
       "      <td>[Delivery, Dine-out, Delivery, Dine-out, Deliv...</td>\n",
       "      <td>https://www.zomato.com/bangalore/l-81-cafe-hsr...</td>\n",
       "      <td>Yes</td>\n",
       "      <td>No</td>\n",
       "      <td>3.9/5</td>\n",
       "      <td>48</td>\n",
       "      <td>+91 9986210891</td>\n",
       "      <td>HSR</td>\n",
       "      <td>Quick Bites</td>\n",
       "      <td>Burgers</td>\n",
       "      <td>Fast Food, Beverages</td>\n",
       "      <td>400</td>\n",
       "      <td>[('Rated 4.0', 'RATED\\n  This little cafe is s...</td>\n",
       "      <td>[]</td>\n",
       "      <td>Delivery</td>\n",
       "      <td>BTM</td>\n",
       "    </tr>\n",
       "    <tr>\n",
       "      <th>3</th>\n",
       "      <td>#L-81 Cafe</td>\n",
       "      <td>Sector 6, HSR Layout, HSR</td>\n",
       "      <td>[Delivery, Dine-out, Delivery, Dine-out, Deliv...</td>\n",
       "      <td>https://www.zomato.com/bangalore/l-81-cafe-hsr...</td>\n",
       "      <td>Yes</td>\n",
       "      <td>No</td>\n",
       "      <td>3.9/5</td>\n",
       "      <td>48</td>\n",
       "      <td>+91 9986210891</td>\n",
       "      <td>HSR</td>\n",
       "      <td>Quick Bites</td>\n",
       "      <td>Burgers</td>\n",
       "      <td>Fast Food, Beverages</td>\n",
       "      <td>400</td>\n",
       "      <td>[('Rated 4.0', 'RATED\\n  This little cafe is s...</td>\n",
       "      <td>[]</td>\n",
       "      <td>Dine-out</td>\n",
       "      <td>BTM</td>\n",
       "    </tr>\n",
       "    <tr>\n",
       "      <th>11</th>\n",
       "      <td>#Vibes Restro</td>\n",
       "      <td>Marasur Gate, Chandapura - Anekal Road, Near A...</td>\n",
       "      <td>[Buffet, Delivery, Dine-out]</td>\n",
       "      <td>https://www.zomato.com/bangalore/vibes-restro-...</td>\n",
       "      <td>No</td>\n",
       "      <td>No</td>\n",
       "      <td>NaN</td>\n",
       "      <td>0</td>\n",
       "      <td>+91 9538911285</td>\n",
       "      <td>Electronic City</td>\n",
       "      <td>Casual Dining</td>\n",
       "      <td>NaN</td>\n",
       "      <td>Continental, Chinese, Italian</td>\n",
       "      <td>700</td>\n",
       "      <td>[('Rated 5.0', \"RATED\\n  Great service and don...</td>\n",
       "      <td>[]</td>\n",
       "      <td>Buffet</td>\n",
       "      <td>Electronic City</td>\n",
       "    </tr>\n",
       "    <tr>\n",
       "      <th>12</th>\n",
       "      <td>#Vibes Restro</td>\n",
       "      <td>Marasur Gate, Chandapura - Anekal Road, Near A...</td>\n",
       "      <td>[Buffet, Delivery, Dine-out]</td>\n",
       "      <td>https://www.zomato.com/bangalore/vibes-restro-...</td>\n",
       "      <td>No</td>\n",
       "      <td>No</td>\n",
       "      <td>NaN</td>\n",
       "      <td>0</td>\n",
       "      <td>+91 9538911285</td>\n",
       "      <td>Electronic City</td>\n",
       "      <td>Casual Dining</td>\n",
       "      <td>NaN</td>\n",
       "      <td>Continental, Chinese, Italian</td>\n",
       "      <td>700</td>\n",
       "      <td>[('Rated 5.0', \"RATED\\n  Great service and don...</td>\n",
       "      <td>[]</td>\n",
       "      <td>Delivery</td>\n",
       "      <td>Electronic City</td>\n",
       "    </tr>\n",
       "  </tbody>\n",
       "</table>\n",
       "</div>"
      ],
      "text/plain": [
       "             name                                            address  \\\n",
       "0    #FeelTheROLL  Opposite Mantri Commercio, Outer Ring Road, De...   \n",
       "2      #L-81 Cafe                          Sector 6, HSR Layout, HSR   \n",
       "3      #L-81 Cafe                          Sector 6, HSR Layout, HSR   \n",
       "11  #Vibes Restro  Marasur Gate, Chandapura - Anekal Road, Near A...   \n",
       "12  #Vibes Restro  Marasur Gate, Chandapura - Anekal Road, Near A...   \n",
       "\n",
       "                                    listed_in(type)_x  \\\n",
       "0                                [Delivery, Delivery]   \n",
       "2   [Delivery, Dine-out, Delivery, Dine-out, Deliv...   \n",
       "3   [Delivery, Dine-out, Delivery, Dine-out, Deliv...   \n",
       "11                       [Buffet, Delivery, Dine-out]   \n",
       "12                       [Buffet, Delivery, Dine-out]   \n",
       "\n",
       "                                                  url online_order book_table  \\\n",
       "0   https://www.zomato.com/bangalore/feeltheroll-b...           No         No   \n",
       "2   https://www.zomato.com/bangalore/l-81-cafe-hsr...          Yes         No   \n",
       "3   https://www.zomato.com/bangalore/l-81-cafe-hsr...          Yes         No   \n",
       "11  https://www.zomato.com/bangalore/vibes-restro-...           No         No   \n",
       "12  https://www.zomato.com/bangalore/vibes-restro-...           No         No   \n",
       "\n",
       "     rate  votes                             phone         location  \\\n",
       "0   3.4/5      7  +91 9108342079\\r\\n+91 9886117901        Bellandur   \n",
       "2   3.9/5     48                    +91 9986210891              HSR   \n",
       "3   3.9/5     48                    +91 9986210891              HSR   \n",
       "11    NaN      0                    +91 9538911285  Electronic City   \n",
       "12    NaN      0                    +91 9538911285  Electronic City   \n",
       "\n",
       "        rest_type dish_liked                       cuisines  \\\n",
       "0     Quick Bites        NaN                      Fast Food   \n",
       "2     Quick Bites    Burgers           Fast Food, Beverages   \n",
       "3     Quick Bites    Burgers           Fast Food, Beverages   \n",
       "11  Casual Dining        NaN  Continental, Chinese, Italian   \n",
       "12  Casual Dining        NaN  Continental, Chinese, Italian   \n",
       "\n",
       "   approx_cost(for two people)  \\\n",
       "0                          200   \n",
       "2                          400   \n",
       "3                          400   \n",
       "11                         700   \n",
       "12                         700   \n",
       "\n",
       "                                         reviews_list menu_item  \\\n",
       "0   [('Rated 5.0', \"RATED\\n  Had an egg chicken ro...        []   \n",
       "2   [('Rated 4.0', 'RATED\\n  This little cafe is s...        []   \n",
       "3   [('Rated 4.0', 'RATED\\n  This little cafe is s...        []   \n",
       "11  [('Rated 5.0', \"RATED\\n  Great service and don...        []   \n",
       "12  [('Rated 5.0', \"RATED\\n  Great service and don...        []   \n",
       "\n",
       "   listed_in(type)_y  listed_in(city)  \n",
       "0           Delivery        Bellandur  \n",
       "2           Delivery              BTM  \n",
       "3           Dine-out              BTM  \n",
       "11            Buffet  Electronic City  \n",
       "12          Delivery  Electronic City  "
      ]
     },
     "execution_count": 13,
     "metadata": {},
     "output_type": "execute_result"
    }
   ],
   "source": [
    "newdata.head()"
   ]
  },
  {
   "cell_type": "code",
   "execution_count": 14,
   "id": "dd3abc40",
   "metadata": {},
   "outputs": [
    {
     "data": {
      "text/html": [
       "<div>\n",
       "<style scoped>\n",
       "    .dataframe tbody tr th:only-of-type {\n",
       "        vertical-align: middle;\n",
       "    }\n",
       "\n",
       "    .dataframe tbody tr th {\n",
       "        vertical-align: top;\n",
       "    }\n",
       "\n",
       "    .dataframe thead th {\n",
       "        text-align: right;\n",
       "    }\n",
       "</style>\n",
       "<table border=\"1\" class=\"dataframe\">\n",
       "  <thead>\n",
       "    <tr style=\"text-align: right;\">\n",
       "      <th></th>\n",
       "      <th>name</th>\n",
       "      <th>address</th>\n",
       "      <th>listed_in(type)_x</th>\n",
       "      <th>url</th>\n",
       "      <th>online_order</th>\n",
       "      <th>book_table</th>\n",
       "      <th>rate</th>\n",
       "      <th>votes</th>\n",
       "      <th>phone</th>\n",
       "      <th>location</th>\n",
       "      <th>rest_type</th>\n",
       "      <th>dish_liked</th>\n",
       "      <th>cuisines</th>\n",
       "      <th>approx_cost(for two people)</th>\n",
       "      <th>reviews_list</th>\n",
       "      <th>menu_item</th>\n",
       "      <th>listed_in(type)_y</th>\n",
       "      <th>listed_in(city)</th>\n",
       "    </tr>\n",
       "  </thead>\n",
       "  <tbody>\n",
       "    <tr>\n",
       "      <th>0</th>\n",
       "      <td>#FeelTheROLL</td>\n",
       "      <td>Opposite Mantri Commercio, Outer Ring Road, De...</td>\n",
       "      <td>[Delivery, Delivery]</td>\n",
       "      <td>https://www.zomato.com/bangalore/feeltheroll-b...</td>\n",
       "      <td>No</td>\n",
       "      <td>No</td>\n",
       "      <td>3.4/5</td>\n",
       "      <td>7</td>\n",
       "      <td>+91 9108342079\\r\\n+91 9886117901</td>\n",
       "      <td>Bellandur</td>\n",
       "      <td>Quick Bites</td>\n",
       "      <td>NaN</td>\n",
       "      <td>Fast Food</td>\n",
       "      <td>200</td>\n",
       "      <td>[('Rated 5.0', \"RATED\\n  Had an egg chicken ro...</td>\n",
       "      <td>[]</td>\n",
       "      <td>Delivery</td>\n",
       "      <td>Bellandur</td>\n",
       "    </tr>\n",
       "    <tr>\n",
       "      <th>1</th>\n",
       "      <td>#L-81 Cafe</td>\n",
       "      <td>Sector 6, HSR Layout, HSR</td>\n",
       "      <td>[Delivery, Dine-out, Delivery, Dine-out, Deliv...</td>\n",
       "      <td>https://www.zomato.com/bangalore/l-81-cafe-hsr...</td>\n",
       "      <td>Yes</td>\n",
       "      <td>No</td>\n",
       "      <td>3.9/5</td>\n",
       "      <td>48</td>\n",
       "      <td>+91 9986210891</td>\n",
       "      <td>HSR</td>\n",
       "      <td>Quick Bites</td>\n",
       "      <td>Burgers</td>\n",
       "      <td>Fast Food, Beverages</td>\n",
       "      <td>400</td>\n",
       "      <td>[('Rated 4.0', 'RATED\\n  This little cafe is s...</td>\n",
       "      <td>[]</td>\n",
       "      <td>Delivery</td>\n",
       "      <td>BTM</td>\n",
       "    </tr>\n",
       "    <tr>\n",
       "      <th>2</th>\n",
       "      <td>#L-81 Cafe</td>\n",
       "      <td>Sector 6, HSR Layout, HSR</td>\n",
       "      <td>[Delivery, Dine-out, Delivery, Dine-out, Deliv...</td>\n",
       "      <td>https://www.zomato.com/bangalore/l-81-cafe-hsr...</td>\n",
       "      <td>Yes</td>\n",
       "      <td>No</td>\n",
       "      <td>3.9/5</td>\n",
       "      <td>48</td>\n",
       "      <td>+91 9986210891</td>\n",
       "      <td>HSR</td>\n",
       "      <td>Quick Bites</td>\n",
       "      <td>Burgers</td>\n",
       "      <td>Fast Food, Beverages</td>\n",
       "      <td>400</td>\n",
       "      <td>[('Rated 4.0', 'RATED\\n  This little cafe is s...</td>\n",
       "      <td>[]</td>\n",
       "      <td>Dine-out</td>\n",
       "      <td>BTM</td>\n",
       "    </tr>\n",
       "    <tr>\n",
       "      <th>3</th>\n",
       "      <td>#Vibes Restro</td>\n",
       "      <td>Marasur Gate, Chandapura - Anekal Road, Near A...</td>\n",
       "      <td>[Buffet, Delivery, Dine-out]</td>\n",
       "      <td>https://www.zomato.com/bangalore/vibes-restro-...</td>\n",
       "      <td>No</td>\n",
       "      <td>No</td>\n",
       "      <td>NaN</td>\n",
       "      <td>0</td>\n",
       "      <td>+91 9538911285</td>\n",
       "      <td>Electronic City</td>\n",
       "      <td>Casual Dining</td>\n",
       "      <td>NaN</td>\n",
       "      <td>Continental, Chinese, Italian</td>\n",
       "      <td>700</td>\n",
       "      <td>[('Rated 5.0', \"RATED\\n  Great service and don...</td>\n",
       "      <td>[]</td>\n",
       "      <td>Buffet</td>\n",
       "      <td>Electronic City</td>\n",
       "    </tr>\n",
       "    <tr>\n",
       "      <th>4</th>\n",
       "      <td>#Vibes Restro</td>\n",
       "      <td>Marasur Gate, Chandapura - Anekal Road, Near A...</td>\n",
       "      <td>[Buffet, Delivery, Dine-out]</td>\n",
       "      <td>https://www.zomato.com/bangalore/vibes-restro-...</td>\n",
       "      <td>No</td>\n",
       "      <td>No</td>\n",
       "      <td>NaN</td>\n",
       "      <td>0</td>\n",
       "      <td>+91 9538911285</td>\n",
       "      <td>Electronic City</td>\n",
       "      <td>Casual Dining</td>\n",
       "      <td>NaN</td>\n",
       "      <td>Continental, Chinese, Italian</td>\n",
       "      <td>700</td>\n",
       "      <td>[('Rated 5.0', \"RATED\\n  Great service and don...</td>\n",
       "      <td>[]</td>\n",
       "      <td>Delivery</td>\n",
       "      <td>Electronic City</td>\n",
       "    </tr>\n",
       "  </tbody>\n",
       "</table>\n",
       "</div>"
      ],
      "text/plain": [
       "            name                                            address  \\\n",
       "0   #FeelTheROLL  Opposite Mantri Commercio, Outer Ring Road, De...   \n",
       "1     #L-81 Cafe                          Sector 6, HSR Layout, HSR   \n",
       "2     #L-81 Cafe                          Sector 6, HSR Layout, HSR   \n",
       "3  #Vibes Restro  Marasur Gate, Chandapura - Anekal Road, Near A...   \n",
       "4  #Vibes Restro  Marasur Gate, Chandapura - Anekal Road, Near A...   \n",
       "\n",
       "                                   listed_in(type)_x  \\\n",
       "0                               [Delivery, Delivery]   \n",
       "1  [Delivery, Dine-out, Delivery, Dine-out, Deliv...   \n",
       "2  [Delivery, Dine-out, Delivery, Dine-out, Deliv...   \n",
       "3                       [Buffet, Delivery, Dine-out]   \n",
       "4                       [Buffet, Delivery, Dine-out]   \n",
       "\n",
       "                                                 url online_order book_table  \\\n",
       "0  https://www.zomato.com/bangalore/feeltheroll-b...           No         No   \n",
       "1  https://www.zomato.com/bangalore/l-81-cafe-hsr...          Yes         No   \n",
       "2  https://www.zomato.com/bangalore/l-81-cafe-hsr...          Yes         No   \n",
       "3  https://www.zomato.com/bangalore/vibes-restro-...           No         No   \n",
       "4  https://www.zomato.com/bangalore/vibes-restro-...           No         No   \n",
       "\n",
       "    rate  votes                             phone         location  \\\n",
       "0  3.4/5      7  +91 9108342079\\r\\n+91 9886117901        Bellandur   \n",
       "1  3.9/5     48                    +91 9986210891              HSR   \n",
       "2  3.9/5     48                    +91 9986210891              HSR   \n",
       "3    NaN      0                    +91 9538911285  Electronic City   \n",
       "4    NaN      0                    +91 9538911285  Electronic City   \n",
       "\n",
       "       rest_type dish_liked                       cuisines  \\\n",
       "0    Quick Bites        NaN                      Fast Food   \n",
       "1    Quick Bites    Burgers           Fast Food, Beverages   \n",
       "2    Quick Bites    Burgers           Fast Food, Beverages   \n",
       "3  Casual Dining        NaN  Continental, Chinese, Italian   \n",
       "4  Casual Dining        NaN  Continental, Chinese, Italian   \n",
       "\n",
       "  approx_cost(for two people)  \\\n",
       "0                         200   \n",
       "1                         400   \n",
       "2                         400   \n",
       "3                         700   \n",
       "4                         700   \n",
       "\n",
       "                                        reviews_list menu_item  \\\n",
       "0  [('Rated 5.0', \"RATED\\n  Had an egg chicken ro...        []   \n",
       "1  [('Rated 4.0', 'RATED\\n  This little cafe is s...        []   \n",
       "2  [('Rated 4.0', 'RATED\\n  This little cafe is s...        []   \n",
       "3  [('Rated 5.0', \"RATED\\n  Great service and don...        []   \n",
       "4  [('Rated 5.0', \"RATED\\n  Great service and don...        []   \n",
       "\n",
       "  listed_in(type)_y  listed_in(city)  \n",
       "0          Delivery        Bellandur  \n",
       "1          Delivery              BTM  \n",
       "2          Dine-out              BTM  \n",
       "3            Buffet  Electronic City  \n",
       "4          Delivery  Electronic City  "
      ]
     },
     "execution_count": 14,
     "metadata": {},
     "output_type": "execute_result"
    }
   ],
   "source": [
    "newdata = newdata.reset_index(drop = True)\n",
    "newdata.head()"
   ]
  },
  {
   "cell_type": "code",
   "execution_count": 15,
   "id": "99c2c4ef",
   "metadata": {},
   "outputs": [],
   "source": [
    "newdata[\"rating\"] = newdata[\"rate\"].str[:3]\n",
    "newdata[\"rating\"].replace('NEW',0,inplace=True)\n",
    "newdata[\"rating\"].replace('-',0,inplace=True)\n",
    "newdata[\"rating\"] = pd.to_numeric(newdata[\"rating\"])"
   ]
  },
  {
   "cell_type": "code",
   "execution_count": 16,
   "id": "fa459727",
   "metadata": {},
   "outputs": [
    {
     "data": {
      "text/plain": [
       "0    3.4\n",
       "1    3.9\n",
       "2    3.9\n",
       "3    NaN\n",
       "4    NaN\n",
       "Name: rating, dtype: float64"
      ]
     },
     "execution_count": 16,
     "metadata": {},
     "output_type": "execute_result"
    }
   ],
   "source": [
    "newdata[\"rating\"].head()"
   ]
  },
  {
   "cell_type": "code",
   "execution_count": 17,
   "id": "610ab070",
   "metadata": {},
   "outputs": [
    {
     "data": {
      "text/plain": [
       "array([3.4, 3.9, nan, 3.7, 3.2, 3.5, 4.6, 4.1, 4.2, 4.3, 4. , 3.1, 3.6,\n",
       "       3.3, 3. , 4.4, 4.5, 0. , 3.8, 2.7, 2.8, 2.9, 2.5, 4.9, 4.7, 4.8,\n",
       "       1.8, 2.4, 2.1, 2.2, 2.6, 2.3, 2. ])"
      ]
     },
     "execution_count": 17,
     "metadata": {},
     "output_type": "execute_result"
    }
   ],
   "source": [
    "newdata['rating'].unique()"
   ]
  },
  {
   "cell_type": "code",
   "execution_count": 18,
   "id": "1a733fb0",
   "metadata": {},
   "outputs": [],
   "source": [
    "newdata[\"rating\"]=pd.cut(newdata[\"rating\"], bins = [1, 3.25, 4.1, 5.0], labels = [\"0\", \"1\", \"2\"])"
   ]
  },
  {
   "cell_type": "code",
   "execution_count": 19,
   "id": "2c01c51f",
   "metadata": {},
   "outputs": [
    {
     "data": {
      "text/plain": [
       "<matplotlib.axes._subplots.AxesSubplot at 0x1af0d5efe20>"
      ]
     },
     "execution_count": 19,
     "metadata": {},
     "output_type": "execute_result"
    },
    {
     "data": {
      "image/png": "[encoded data removed]",
      "text/plain": [
       "<Figure size 720x360 with 1 Axes>"
      ]
     },
     "metadata": {
      "needs_background": "light"
     },
     "output_type": "display_data"
    }
   ],
   "source": [
    "plt.figure(figsize = (10, 5))\n",
    "sns.countplot(newdata[\"rating\"])"
   ]
  },
  {
   "cell_type": "code",
   "execution_count": 20,
   "id": "0a456eb5",
   "metadata": {},
   "outputs": [
    {
     "data": {
      "text/html": [
       "<div>\n",
       "<style scoped>\n",
       "    .dataframe tbody tr th:only-of-type {\n",
       "        vertical-align: middle;\n",
       "    }\n",
       "\n",
       "    .dataframe tbody tr th {\n",
       "        vertical-align: top;\n",
       "    }\n",
       "\n",
       "    .dataframe thead th {\n",
       "        text-align: right;\n",
       "    }\n",
       "</style>\n",
       "<table border=\"1\" class=\"dataframe\">\n",
       "  <thead>\n",
       "    <tr style=\"text-align: right;\">\n",
       "      <th></th>\n",
       "      <th>name</th>\n",
       "      <th>address</th>\n",
       "      <th>listed_in(type)_x</th>\n",
       "      <th>url</th>\n",
       "      <th>online_order</th>\n",
       "      <th>book_table</th>\n",
       "      <th>rate</th>\n",
       "      <th>votes</th>\n",
       "      <th>phone</th>\n",
       "      <th>location</th>\n",
       "      <th>rest_type</th>\n",
       "      <th>dish_liked</th>\n",
       "      <th>cuisines</th>\n",
       "      <th>approx_cost(for two people)</th>\n",
       "      <th>reviews_list</th>\n",
       "      <th>menu_item</th>\n",
       "      <th>listed_in(type)_y</th>\n",
       "      <th>listed_in(city)</th>\n",
       "      <th>rating</th>\n",
       "    </tr>\n",
       "  </thead>\n",
       "  <tbody>\n",
       "    <tr>\n",
       "      <th>count</th>\n",
       "      <td>20915</td>\n",
       "      <td>20915</td>\n",
       "      <td>20915</td>\n",
       "      <td>20915</td>\n",
       "      <td>20915</td>\n",
       "      <td>20915</td>\n",
       "      <td>17532</td>\n",
       "      <td>20915.000000</td>\n",
       "      <td>20516</td>\n",
       "      <td>20903</td>\n",
       "      <td>20809</td>\n",
       "      <td>8916</td>\n",
       "      <td>20892</td>\n",
       "      <td>20817</td>\n",
       "      <td>20915</td>\n",
       "      <td>20915</td>\n",
       "      <td>20915</td>\n",
       "      <td>20915</td>\n",
       "      <td>16391</td>\n",
       "    </tr>\n",
       "    <tr>\n",
       "      <th>unique</th>\n",
       "      <td>8792</td>\n",
       "      <td>11495</td>\n",
       "      <td>927</td>\n",
       "      <td>20915</td>\n",
       "      <td>2</td>\n",
       "      <td>2</td>\n",
       "      <td>61</td>\n",
       "      <td>NaN</td>\n",
       "      <td>11999</td>\n",
       "      <td>93</td>\n",
       "      <td>93</td>\n",
       "      <td>4502</td>\n",
       "      <td>2630</td>\n",
       "      <td>70</td>\n",
       "      <td>12660</td>\n",
       "      <td>3693</td>\n",
       "      <td>7</td>\n",
       "      <td>30</td>\n",
       "      <td>3</td>\n",
       "    </tr>\n",
       "    <tr>\n",
       "      <th>top</th>\n",
       "      <td>Cafe Coffee Day</td>\n",
       "      <td>Delivery Only</td>\n",
       "      <td>[Delivery, Dine-out]</td>\n",
       "      <td>https://www.zomato.com/bangalore/bhajankas-res...</td>\n",
       "      <td>Yes</td>\n",
       "      <td>No</td>\n",
       "      <td>3.9/5</td>\n",
       "      <td>NaN</td>\n",
       "      <td>080 43334333</td>\n",
       "      <td>Whitefield</td>\n",
       "      <td>Quick Bites</td>\n",
       "      <td>Biryani</td>\n",
       "      <td>North Indian</td>\n",
       "      <td>300</td>\n",
       "      <td>[]</td>\n",
       "      <td>[]</td>\n",
       "      <td>Delivery</td>\n",
       "      <td>BTM</td>\n",
       "      <td>1</td>\n",
       "    </tr>\n",
       "    <tr>\n",
       "      <th>freq</th>\n",
       "      <td>78</td>\n",
       "      <td>36</td>\n",
       "      <td>2418</td>\n",
       "      <td>1</td>\n",
       "      <td>11605</td>\n",
       "      <td>18615</td>\n",
       "      <td>1181</td>\n",
       "      <td>NaN</td>\n",
       "      <td>93</td>\n",
       "      <td>1462</td>\n",
       "      <td>8007</td>\n",
       "      <td>78</td>\n",
       "      <td>1174</td>\n",
       "      <td>3005</td>\n",
       "      <td>3524</td>\n",
       "      <td>16766</td>\n",
       "      <td>9355</td>\n",
       "      <td>2379</td>\n",
       "      <td>11321</td>\n",
       "    </tr>\n",
       "    <tr>\n",
       "      <th>mean</th>\n",
       "      <td>NaN</td>\n",
       "      <td>NaN</td>\n",
       "      <td>NaN</td>\n",
       "      <td>NaN</td>\n",
       "      <td>NaN</td>\n",
       "      <td>NaN</td>\n",
       "      <td>NaN</td>\n",
       "      <td>246.105427</td>\n",
       "      <td>NaN</td>\n",
       "      <td>NaN</td>\n",
       "      <td>NaN</td>\n",
       "      <td>NaN</td>\n",
       "      <td>NaN</td>\n",
       "      <td>NaN</td>\n",
       "      <td>NaN</td>\n",
       "      <td>NaN</td>\n",
       "      <td>NaN</td>\n",
       "      <td>NaN</td>\n",
       "      <td>NaN</td>\n",
       "    </tr>\n",
       "    <tr>\n",
       "      <th>std</th>\n",
       "      <td>NaN</td>\n",
       "      <td>NaN</td>\n",
       "      <td>NaN</td>\n",
       "      <td>NaN</td>\n",
       "      <td>NaN</td>\n",
       "      <td>NaN</td>\n",
       "      <td>NaN</td>\n",
       "      <td>741.954538</td>\n",
       "      <td>NaN</td>\n",
       "      <td>NaN</td>\n",
       "      <td>NaN</td>\n",
       "      <td>NaN</td>\n",
       "      <td>NaN</td>\n",
       "      <td>NaN</td>\n",
       "      <td>NaN</td>\n",
       "      <td>NaN</td>\n",
       "      <td>NaN</td>\n",
       "      <td>NaN</td>\n",
       "      <td>NaN</td>\n",
       "    </tr>\n",
       "    <tr>\n",
       "      <th>min</th>\n",
       "      <td>NaN</td>\n",
       "      <td>NaN</td>\n",
       "      <td>NaN</td>\n",
       "      <td>NaN</td>\n",
       "      <td>NaN</td>\n",
       "      <td>NaN</td>\n",
       "      <td>NaN</td>\n",
       "      <td>0.000000</td>\n",
       "      <td>NaN</td>\n",
       "      <td>NaN</td>\n",
       "      <td>NaN</td>\n",
       "      <td>NaN</td>\n",
       "      <td>NaN</td>\n",
       "      <td>NaN</td>\n",
       "      <td>NaN</td>\n",
       "      <td>NaN</td>\n",
       "      <td>NaN</td>\n",
       "      <td>NaN</td>\n",
       "      <td>NaN</td>\n",
       "    </tr>\n",
       "    <tr>\n",
       "      <th>25%</th>\n",
       "      <td>NaN</td>\n",
       "      <td>NaN</td>\n",
       "      <td>NaN</td>\n",
       "      <td>NaN</td>\n",
       "      <td>NaN</td>\n",
       "      <td>NaN</td>\n",
       "      <td>NaN</td>\n",
       "      <td>5.000000</td>\n",
       "      <td>NaN</td>\n",
       "      <td>NaN</td>\n",
       "      <td>NaN</td>\n",
       "      <td>NaN</td>\n",
       "      <td>NaN</td>\n",
       "      <td>NaN</td>\n",
       "      <td>NaN</td>\n",
       "      <td>NaN</td>\n",
       "      <td>NaN</td>\n",
       "      <td>NaN</td>\n",
       "      <td>NaN</td>\n",
       "    </tr>\n",
       "    <tr>\n",
       "      <th>50%</th>\n",
       "      <td>NaN</td>\n",
       "      <td>NaN</td>\n",
       "      <td>NaN</td>\n",
       "      <td>NaN</td>\n",
       "      <td>NaN</td>\n",
       "      <td>NaN</td>\n",
       "      <td>NaN</td>\n",
       "      <td>34.000000</td>\n",
       "      <td>NaN</td>\n",
       "      <td>NaN</td>\n",
       "      <td>NaN</td>\n",
       "      <td>NaN</td>\n",
       "      <td>NaN</td>\n",
       "      <td>NaN</td>\n",
       "      <td>NaN</td>\n",
       "      <td>NaN</td>\n",
       "      <td>NaN</td>\n",
       "      <td>NaN</td>\n",
       "      <td>NaN</td>\n",
       "    </tr>\n",
       "    <tr>\n",
       "      <th>75%</th>\n",
       "      <td>NaN</td>\n",
       "      <td>NaN</td>\n",
       "      <td>NaN</td>\n",
       "      <td>NaN</td>\n",
       "      <td>NaN</td>\n",
       "      <td>NaN</td>\n",
       "      <td>NaN</td>\n",
       "      <td>167.000000</td>\n",
       "      <td>NaN</td>\n",
       "      <td>NaN</td>\n",
       "      <td>NaN</td>\n",
       "      <td>NaN</td>\n",
       "      <td>NaN</td>\n",
       "      <td>NaN</td>\n",
       "      <td>NaN</td>\n",
       "      <td>NaN</td>\n",
       "      <td>NaN</td>\n",
       "      <td>NaN</td>\n",
       "      <td>NaN</td>\n",
       "    </tr>\n",
       "    <tr>\n",
       "      <th>max</th>\n",
       "      <td>NaN</td>\n",
       "      <td>NaN</td>\n",
       "      <td>NaN</td>\n",
       "      <td>NaN</td>\n",
       "      <td>NaN</td>\n",
       "      <td>NaN</td>\n",
       "      <td>NaN</td>\n",
       "      <td>16345.000000</td>\n",
       "      <td>NaN</td>\n",
       "      <td>NaN</td>\n",
       "      <td>NaN</td>\n",
       "      <td>NaN</td>\n",
       "      <td>NaN</td>\n",
       "      <td>NaN</td>\n",
       "      <td>NaN</td>\n",
       "      <td>NaN</td>\n",
       "      <td>NaN</td>\n",
       "      <td>NaN</td>\n",
       "      <td>NaN</td>\n",
       "    </tr>\n",
       "  </tbody>\n",
       "</table>\n",
       "</div>"
      ],
      "text/plain": [
       "                   name        address     listed_in(type)_x  \\\n",
       "count             20915          20915                 20915   \n",
       "unique             8792          11495                   927   \n",
       "top     Cafe Coffee Day  Delivery Only  [Delivery, Dine-out]   \n",
       "freq                 78             36                  2418   \n",
       "mean                NaN            NaN                   NaN   \n",
       "std                 NaN            NaN                   NaN   \n",
       "min                 NaN            NaN                   NaN   \n",
       "25%                 NaN            NaN                   NaN   \n",
       "50%                 NaN            NaN                   NaN   \n",
       "75%                 NaN            NaN                   NaN   \n",
       "max                 NaN            NaN                   NaN   \n",
       "\n",
       "                                                      url online_order  \\\n",
       "count                                               20915        20915   \n",
       "unique                                              20915            2   \n",
       "top     https://www.zomato.com/bangalore/bhajankas-res...          Yes   \n",
       "freq                                                    1        11605   \n",
       "mean                                                  NaN          NaN   \n",
       "std                                                   NaN          NaN   \n",
       "min                                                   NaN          NaN   \n",
       "25%                                                   NaN          NaN   \n",
       "50%                                                   NaN          NaN   \n",
       "75%                                                   NaN          NaN   \n",
       "max                                                   NaN          NaN   \n",
       "\n",
       "       book_table   rate         votes         phone    location    rest_type  \\\n",
       "count       20915  17532  20915.000000         20516       20903        20809   \n",
       "unique          2     61           NaN         11999          93           93   \n",
       "top            No  3.9/5           NaN  080 43334333  Whitefield  Quick Bites   \n",
       "freq        18615   1181           NaN            93        1462         8007   \n",
       "mean          NaN    NaN    246.105427           NaN         NaN          NaN   \n",
       "std           NaN    NaN    741.954538           NaN         NaN          NaN   \n",
       "min           NaN    NaN      0.000000           NaN         NaN          NaN   \n",
       "25%           NaN    NaN      5.000000           NaN         NaN          NaN   \n",
       "50%           NaN    NaN     34.000000           NaN         NaN          NaN   \n",
       "75%           NaN    NaN    167.000000           NaN         NaN          NaN   \n",
       "max           NaN    NaN  16345.000000           NaN         NaN          NaN   \n",
       "\n",
       "       dish_liked      cuisines approx_cost(for two people) reviews_list  \\\n",
       "count        8916         20892                       20817        20915   \n",
       "unique       4502          2630                          70        12660   \n",
       "top       Biryani  North Indian                         300           []   \n",
       "freq           78          1174                        3005         3524   \n",
       "mean          NaN           NaN                         NaN          NaN   \n",
       "std           NaN           NaN                         NaN          NaN   \n",
       "min           NaN           NaN                         NaN          NaN   \n",
       "25%           NaN           NaN                         NaN          NaN   \n",
       "50%           NaN           NaN                         NaN          NaN   \n",
       "75%           NaN           NaN                         NaN          NaN   \n",
       "max           NaN           NaN                         NaN          NaN   \n",
       "\n",
       "       menu_item listed_in(type)_y listed_in(city) rating  \n",
       "count      20915             20915           20915  16391  \n",
       "unique      3693                 7              30      3  \n",
       "top           []          Delivery             BTM      1  \n",
       "freq       16766              9355            2379  11321  \n",
       "mean         NaN               NaN             NaN    NaN  \n",
       "std          NaN               NaN             NaN    NaN  \n",
       "min          NaN               NaN             NaN    NaN  \n",
       "25%          NaN               NaN             NaN    NaN  \n",
       "50%          NaN               NaN             NaN    NaN  \n",
       "75%          NaN               NaN             NaN    NaN  \n",
       "max          NaN               NaN             NaN    NaN  "
      ]
     },
     "execution_count": 20,
     "metadata": {},
     "output_type": "execute_result"
    }
   ],
   "source": [
    "newdata.describe(include = \"all\")"
   ]
  },
  {
   "cell_type": "code",
   "execution_count": 21,
   "id": "d29551e3",
   "metadata": {},
   "outputs": [
    {
     "data": {
      "text/plain": [
       "(20915, 19)"
      ]
     },
     "execution_count": 21,
     "metadata": {},
     "output_type": "execute_result"
    }
   ],
   "source": [
    "newdata.shape"
   ]
  },
  {
   "cell_type": "code",
   "execution_count": 23,
   "id": "01480da2",
   "metadata": {},
   "outputs": [],
   "source": [
    "import re\n",
    "sample=newdata.sample(n=2000)\n",
    "total_review=' '\n",
    "for review in sample['reviews_list']:\n",
    "    review=review.lower()\n",
    "    review=re.sub('[^a-zA-Z]', ' ',review)\n",
    "    review=re.sub('rated', ' ',review)\n",
    "    review=re.sub('x',' ',review)\n",
    "    review=re.sub(' +',' ',review)\n",
    "    total_review=total_review + str(review)"
   ]
  },
  {
   "cell_type": "code",
   "execution_count": 24,
   "id": "fd0ac7a7",
   "metadata": {},
   "outputs": [
    {
     "data": {
      "text/plain": [
       "(-0.5, 799.5, 799.5, -0.5)"
      ]
     },
     "execution_count": 24,
     "metadata": {},
     "output_type": "execute_result"
    },
    {
     "data": {
      "image/png": "[encoded data removed]",
      "text/plain": [
       "<Figure size 576x576 with 1 Axes>"
      ]
     },
     "metadata": {
      "needs_background": "light"
     },
     "output_type": "display_data"
    }
   ],
   "source": [
    "import wordcloud\n",
    "from wordcloud import WordCloud,STOPWORDS\n",
    "stopwords=set(STOPWORDS)\n",
    "\n",
    "wordcloud = WordCloud(width = 800, height = 800, \n",
    "                background_color ='white', \n",
    "                stopwords = stopwords, \n",
    "                min_font_size = 10).generate(total_review)                       \n",
    "plt.figure(figsize = (8, 8)) \n",
    "plt.imshow(wordcloud) \n",
    "plt.axis(\"off\") "
   ]
  },
  {
   "cell_type": "code",
   "execution_count": 25,
   "id": "436bb425",
   "metadata": {},
   "outputs": [
    {
     "name": "stdout",
     "output_type": "stream",
     "text": [
      "['rated', 'rated', 'n', 'had', 'an', 'egg', 'chicken', 'roll', 'and', 'a', 'paneer', 'roll', 'really', 'yummy', 'a', 'must', 'visit', 'place', 'it', 'would', 'be', 'good', 'if', 'you', 'guys', 'can', 'keep', 'the', 'shop', 'open', 'on', 'sunday', 's', 'as', 'well', 'good', 'luck', 'rated', 'rated', 'n', 'not', 'just', 'the', 'roll', 'but', 'the', 'filling', 'tastes', 'great', 'i', 'would', 'highly', 'recommend', 'to', 'others', 'to', 'try', 'their', 'rolls', 'owners', 'hospitality', 'is', 'also', 'good', 'and', 'very', 'friendly', 'rated', 'rated', 'n', 'very', 'nice', 'place', 'complete', 'value', 'for', 'money', 'highly', 'recommend', 'must', 'visit', 'for', 'any', 'foodie', 'i', 'would', 'recommend', 'the', 'egg', 'chicken', 'roll', 'feeltheroll', 'rated', 'rated', 'n', 'had', 'an', 'amazing', 'mouth', 'watering', 'chicken', 'roll', 'worth', 'every', 'bite', 'a', 'must', 'try', 'for', 'every', 'foodie', 'a', 'variety', 'of', 'rolls', 'and', 'sandwiches', 'are', 'available', 'as', 'well', 'a', 'budding', 'rafflesia']\n"
     ]
    }
   ],
   "source": [
    "from nltk.corpus import RegexpTokenizer as regextoken\n",
    "newdata[\"reviews_list\"] = newdata[\"reviews_list\"].apply(lambda x: x.lower())\n",
    "tokenizer = regextoken(\"[a-zA-Z]+\") \n",
    "newdata[\"reviews_list\"][0]\n",
    "print(tokenizer.tokenize(newdata[\"reviews_list\"][0]))"
   ]
  },
  {
   "cell_type": "code",
   "execution_count": 26,
   "id": "e7c3df71",
   "metadata": {},
   "outputs": [
    {
     "name": "stdout",
     "output_type": "stream",
     "text": [
      "['rated', 'rated', 'n', 'had', 'an', 'egg', 'chicken', 'roll', 'and', 'a', 'paneer', 'roll', 'really', 'yummy', 'a', 'must', 'visit', 'place', 'it', 'would', 'be', 'good', 'if', 'you', 'guys', 'can', 'keep', 'the', 'shop', 'open', 'on', 'sunday', 's', 'as', 'well', 'good', 'luck', 'rated', 'rated', 'n', 'not', 'just', 'the', 'roll', 'but', 'the', 'filling', 'tastes', 'great', 'i', 'would', 'highly', 'recommend', 'to', 'others', 'to', 'try', 'their', 'rolls', 'owners', 'hospitality', 'is', 'also', 'good', 'and', 'very', 'friendly', 'rated', 'rated', 'n', 'very', 'nice', 'place', 'complete', 'value', 'for', 'money', 'highly', 'recommend', 'must', 'visit', 'for', 'any', 'foodie', 'i', 'would', 'recommend', 'the', 'egg', 'chicken', 'roll', 'feeltheroll', 'rated', 'rated', 'n', 'had', 'an', 'amazing', 'mouth', 'watering', 'chicken', 'roll', 'worth', 'every', 'bite', 'a', 'must', 'try', 'for', 'every', 'foodie', 'a', 'variety', 'of', 'rolls', 'and', 'sandwiches', 'are', 'available', 'as', 'well', 'a', 'budding', 'rafflesia']\n"
     ]
    }
   ],
   "source": [
    "review_tokens = newdata[\"reviews_list\"].apply(tokenizer.tokenize)\n",
    "print(review_tokens[0])"
   ]
  },
  {
   "cell_type": "code",
   "execution_count": 27,
   "id": "23b0707f",
   "metadata": {},
   "outputs": [
    {
     "name": "stdout",
     "output_type": "stream",
     "text": [
      "['i', 'me', 'my', 'myself', 'we', 'our', 'ours', 'ourselves', 'you', \"you're\", \"you've\", \"you'll\", \"you'd\", 'your', 'yours', 'yourself', 'yourselves', 'he', 'him', 'his', 'himself', 'she', \"she's\", 'her', 'hers', 'herself', 'it', \"it's\", 'its', 'itself', 'they', 'them', 'their', 'theirs', 'themselves', 'what', 'which', 'who', 'whom', 'this', 'that', \"that'll\", 'these', 'those', 'am', 'is', 'are', 'was', 'were', 'be', 'been', 'being', 'have', 'has', 'had', 'having', 'do', 'does', 'did', 'doing', 'a', 'an', 'the', 'and', 'but', 'if', 'or', 'because', 'as', 'until', 'while', 'of', 'at', 'by', 'for', 'with', 'about', 'against', 'between', 'into', 'through', 'during', 'before', 'after', 'above', 'below', 'to', 'from', 'up', 'down', 'in', 'out', 'on', 'off', 'over', 'under', 'again', 'further', 'then', 'once', 'here', 'there', 'when', 'where', 'why', 'how', 'all', 'any', 'both', 'each', 'few', 'more', 'most', 'other', 'some', 'such', 'no', 'nor', 'not', 'only', 'own', 'same', 'so', 'than', 'too', 'very', 's', 't', 'can', 'will', 'just', 'don', \"don't\", 'should', \"should've\", 'now', 'd', 'll', 'm', 'o', 're', 've', 'y', 'ain', 'aren', \"aren't\", 'couldn', \"couldn't\", 'didn', \"didn't\", 'doesn', \"doesn't\", 'hadn', \"hadn't\", 'hasn', \"hasn't\", 'haven', \"haven't\", 'isn', \"isn't\", 'ma', 'mightn', \"mightn't\", 'mustn', \"mustn't\", 'needn', \"needn't\", 'shan', \"shan't\", 'shouldn', \"shouldn't\", 'wasn', \"wasn't\", 'weren', \"weren't\", 'won', \"won't\", 'wouldn', \"wouldn't\"]\n"
     ]
    }
   ],
   "source": [
    "from nltk.corpus import stopwords\n",
    "stop = stopwords.words(\"english\")\n",
    "print(stop)"
   ]
  },
  {
   "cell_type": "code",
   "execution_count": 28,
   "id": "9377ac0e",
   "metadata": {},
   "outputs": [
    {
     "name": "stdout",
     "output_type": "stream",
     "text": [
      "['egg', 'chicken', 'roll', 'paneer', 'roll', 'really', 'yummy', 'must', 'visit', 'place', 'would', 'good', 'guys', 'keep', 'shop', 'open', 'sunday', 'well', 'good', 'luck', 'roll', 'filling', 'tastes', 'great', 'would', 'highly', 'recommend', 'others', 'try', 'rolls', 'owners', 'hospitality', 'also', 'good', 'friendly', 'nice', 'place', 'complete', 'value', 'money', 'highly', 'recommend', 'must', 'visit', 'foodie', 'would', 'recommend', 'egg', 'chicken', 'roll', 'feeltheroll', 'amazing', 'mouth', 'watering', 'chicken', 'roll', 'worth', 'every', 'bite', 'must', 'try', 'every', 'foodie', 'variety', 'rolls', 'sandwiches', 'available', 'well', 'budding', 'rafflesia']\n"
     ]
    }
   ],
   "source": [
    "stop.extend([\"rated\", \"n\", \"nan\", \"x\"])\n",
    "rev=review_tokens[0]\n",
    "print([token for token in rev if token not in stop])"
   ]
  },
  {
   "cell_type": "code",
   "execution_count": 29,
   "id": "c6ce91c6",
   "metadata": {},
   "outputs": [
    {
     "name": "stdout",
     "output_type": "stream",
     "text": [
      "['egg', 'chicken', 'roll', 'paneer', 'roll', 'really', 'yummy', 'must', 'visit', 'place', 'would', 'good', 'guys', 'keep', 'shop', 'open', 'sunday', 'well', 'good', 'luck', 'roll', 'filling', 'tastes', 'great', 'would', 'highly', 'recommend', 'others', 'try', 'rolls', 'owners', 'hospitality', 'also', 'good', 'friendly', 'nice', 'place', 'complete', 'value', 'money', 'highly', 'recommend', 'must', 'visit', 'foodie', 'would', 'recommend', 'egg', 'chicken', 'roll', 'feeltheroll', 'amazing', 'mouth', 'watering', 'chicken', 'roll', 'worth', 'every', 'bite', 'must', 'try', 'every', 'foodie', 'variety', 'rolls', 'sandwiches', 'available', 'well', 'budding', 'rafflesia']\n"
     ]
    }
   ],
   "source": [
    "def remove_stopwords(text):\n",
    "    updated_text=[token for token in text if token not in stop]\n",
    "    return updated_text\n",
    "review_tokens=review_tokens.apply(remove_stopwords)\n",
    "type(review_tokens)\n",
    "print(review_tokens[0])"
   ]
  },
  {
   "cell_type": "code",
   "execution_count": 30,
   "id": "7a8be6b2",
   "metadata": {},
   "outputs": [
    {
     "data": {
      "text/plain": [
       "13376224"
      ]
     },
     "execution_count": 30,
     "metadata": {},
     "output_type": "execute_result"
    }
   ],
   "source": [
    "all_reviews = review_tokens.astype(str).str.cat()\n",
    "all_reviews[0:200]\n",
    "cleaned_reviews = tokenizer.tokenize(all_reviews)\n",
    "len(cleaned_reviews)"
   ]
  },
  {
   "cell_type": "code",
   "execution_count": 31,
   "id": "1dcc4b93",
   "metadata": {},
   "outputs": [
    {
     "name": "stdout",
     "output_type": "stream",
     "text": [
      "['egg', 'chicken', 'roll', 'paneer', 'roll', 'really', 'yummy', 'must', 'visit', 'place', 'would', 'good', 'guys', 'keep', 'shop', 'open', 'sunday', 'well', 'good', 'luck', 'roll', 'filling', 'tastes', 'great', 'would', 'highly', 'recommend', 'others', 'try', 'rolls', 'owners', 'hospitality', 'also', 'good', 'friendly', 'nice', 'place', 'complete', 'value', 'money', 'highly', 'recommend', 'must', 'visit', 'foodie', 'would', 'recommend', 'egg', 'chicken', 'roll', 'feeltheroll', 'amazing', 'mouth', 'watering', 'chicken', 'roll', 'worth', 'every', 'bite', 'must', 'try', 'every', 'foodie', 'variety', 'rolls', 'sandwiches', 'available', 'well', 'budding', 'rafflesia', 'little', 'cafe', 'set', 'beautiful', 'location', 'ambiance', 'good', 'nthe', 'burger', 'filled', 'taste', 'chicken', 'nthe', 'banana', 'chocolate', 'sandwich', 'variety', 'would', 'never', 'find', 'restaurants', 'bangalore', 'drinks', 'wonderful', 'lot', 'flavours', 'choose', 'nit', 'took', 'little', 'time', 'expected', 'food', 'served', 'table', 'nall', 'dishes', 'seemed', 'priced', 'moderately', 'well', 'nfood', 'nambiance', 'nservice', 'ntheir', 'chefs', 'brilliant', 'job', 'creating', 'new', 'dishes', 'variety', 'na', 'wonderful', 'place', 'friends', 'cozy', 'cafe', 'near', 'silk', 'board', 'came', 'boarding', 'bus', 'totally', 'open', 'air', 'especially', 'comfortable', 'night', 'staff', 'friendly', 'serve', 'food', 'fast', 'quite', 'cheap', 'good', 'bite', 'ncons', 'come', 'weather', 'good', 'toilets', 'lights', 'ni', 'recommend', 'beetroot', 'juice', 'nice', 'place', 'hang', 'open', 'space', 'must', 'visit', 'place', 'night', 'looks', 'awesome', 'food', 'items', 'tasty', 'friend', 'ordered', 'onion', 'pakoda', 'masala', 'soda', 'rose', 'falooda', 'corn', 'sandwich', 'chocolate', 'sandwich', 'items', 'tasty', 'love', 'visit', 'place', 'love', 'ambiance', 'perfect', 'way', 'spend', 'sunday', 'food', 'really', 'good', 'value']\n"
     ]
    }
   ],
   "source": [
    "print(cleaned_reviews[0:200])"
   ]
  },
  {
   "cell_type": "code",
   "execution_count": 32,
   "id": "2b6c4bec",
   "metadata": {},
   "outputs": [
    {
     "data": {
      "text/plain": [
       "[('good', 328304),\n",
       " ('place', 317915),\n",
       " ('food', 307405),\n",
       " ('chicken', 141301),\n",
       " ('service', 109512)]"
      ]
     },
     "execution_count": 32,
     "metadata": {},
     "output_type": "execute_result"
    }
   ],
   "source": [
    "from nltk import FreqDist, bigrams, trigrams\n",
    "fd = FreqDist()\n",
    "for word in cleaned_reviews:\n",
    "    fd[word]=fd[word]+ 1\n",
    "fd.most_common(5)    "
   ]
  },
  {
   "cell_type": "code",
   "execution_count": 33,
   "id": "cea3a451",
   "metadata": {},
   "outputs": [
    {
     "data": {
      "image/png": "[encoded data removed]",
      "text/plain": [
       "<Figure size 1080x576 with 1 Axes>"
      ]
     },
     "metadata": {
      "needs_background": "light"
     },
     "output_type": "display_data"
    },
    {
     "data": {
      "text/plain": [
       "<matplotlib.axes._subplots.AxesSubplot at 0x1af3481ccd0>"
      ]
     },
     "execution_count": 33,
     "metadata": {},
     "output_type": "execute_result"
    }
   ],
   "source": [
    "plt.figure(figsize = (15, 8))\n",
    "fd.plot(50)"
   ]
  },
  {
   "cell_type": "code",
   "execution_count": 34,
   "id": "0406e307",
   "metadata": {},
   "outputs": [
    {
     "data": {
      "text/plain": [
       "<generator object bigrams at 0x000001AF9F67DBA0>"
      ]
     },
     "execution_count": 34,
     "metadata": {},
     "output_type": "execute_result"
    }
   ],
   "source": [
    "from nltk import bigrams\n",
    "bigrams = bigrams(cleaned_reviews)\n",
    "bigrams"
   ]
  },
  {
   "cell_type": "code",
   "execution_count": null,
   "id": "3d0502d4",
   "metadata": {},
   "outputs": [],
   "source": []
  },
  {
   "cell_type": "code",
   "execution_count": null,
   "id": "47525b92",
   "metadata": {},
   "outputs": [],
   "source": []
  }
 ],
 "metadata": {
  "kernelspec": {
   "display_name": "Python 3",
   "language": "python",
   "name": "python3"
  },
  "language_info": {
   "codemirror_mode": {
    "name": "ipython",
    "version": 3
   },
   "file_extension": ".py",
   "mimetype": "text/x-python",
   "name": "python",
   "nbconvert_exporter": "python",
   "pygments_lexer": "ipython3",
   "version": "3.8.8"
  }
 },
 "nbformat": 4,
 "nbformat_minor": 5
}
